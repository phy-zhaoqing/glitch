{
 "cells": [
  {
   "cell_type": "markdown",
   "metadata": {},
   "source": [
    "# Reference\n",
    "C.A. van Eysden & A. Melatos, MNRAS. 409 (2010) 1253.\n",
    "\n",
    "## test case\n",
    "Vela_1985 July 12. \n",
    "data from McCulloch et al. (1987)."
   ]
  },
  {
   "cell_type": "code",
   "execution_count": 77,
   "metadata": {},
   "outputs": [],
   "source": [
    "import numpy as np\n",
    "import matplotlib.pyplot as plt\n",
    "from scipy.integrate import quad\n",
    "from scipy.misc import derivative"
   ]
  },
  {
   "cell_type": "markdown",
   "metadata": {},
   "source": [
    "## two-component spin-up model"
   ]
  },
  {
   "cell_type": "markdown",
   "metadata": {},
   "source": [
    "### parameters of model"
   ]
  },
  {
   "cell_type": "code",
   "execution_count": 78,
   "metadata": {},
   "outputs": [],
   "source": [
    "# Fig. 2. (a)\n",
    "# dimensionless parameters\n",
    "K       =   1.0\n",
    "B       =   2.28e-8\n",
    "E       =   9.28e-19\n",
    "\n",
    "# viscous, scaled to total density: rho\n",
    "rho_n   =   0.1\n",
    "\n",
    "# viscous, total mass flux, scaled to dlt_Omega\n",
    "Omega_n0=   0.38\n",
    "Omega_0 =   0.68\n",
    "\n",
    "beta    =   B / np.sqrt(E)\n",
    "\n",
    "effs = {'K':K, 'B':B, 'E':E, 'rho_n':rho_n, 'Omega_n0':Omega_n0, 'Omega_0':Omega_0, 'beta':beta}\n",
    "\n",
    "\n",
    "# 20/7*0.01*53, 0.97, 0.97, 50/np.sqrt(3.05e5)\n",
    "K       =   53\n",
    "B       =   50\n",
    "E       =   3.05e5\n",
    "\n",
    "# viscous, scaled to total density: rho\n",
    "rho_n   =   0.01\n",
    "\n",
    "# viscous, total mass flux, scaled to dlt_Omega\n",
    "Omega_n0=   0.97\n",
    "Omega_0 =   0.97\n",
    "\n",
    "beta    =   B / np.sqrt(E)"
   ]
  },
  {
   "cell_type": "code",
   "execution_count": 79,
   "metadata": {},
   "outputs": [
    {
     "name": "stdout",
     "output_type": "stream",
     "text": [
      "-0.00090789794921875\n"
     ]
    }
   ],
   "source": [
    "# formula (11), the radius-dependent time-scales omega_pm^{-1}\n",
    "# a mixture of the classical Ekman time-scale \n",
    "# & the superfluid mutual friction coupling time-scale \n",
    "\n",
    "def omega_pm(r, pm):\n",
    "    z2       =   1. - np.square(r)\n",
    "    z_term   =   np.power(z2, -0.75)\n",
    "\n",
    "    term1    =   - 0.5 * (beta + z_term)\n",
    "    term2    =   np.sqrt(np.power(term1, 2) - beta * rho_n * z_term)\n",
    "\n",
    "    if pm == '+':\n",
    "        result = term1 + term2\n",
    "    elif pm == '-':\n",
    "        result = term1 - term2\n",
    "    else:\n",
    "        print(\"An unexpected error occurred:\", pm)\n",
    "        result = None\n",
    "\n",
    "    return result\n",
    "\n",
    "print(omega_pm(0.999999999999999, '+'))"
   ]
  },
  {
   "cell_type": "code",
   "execution_count": 80,
   "metadata": {},
   "outputs": [],
   "source": [
    "# formula (15), defined to calc formula (14)\n",
    "\n",
    "def gA_to_quad(tau, r):\n",
    "    omg_p   =   omega_pm(r, '+')\n",
    "    omg_m   =   omega_pm(r, '-')\n",
    "    z       =   np.sqrt(1 - np.square(r))\n",
    "\n",
    "    # calc the num. & den.\n",
    "    numerator   =   np.power(r, 3) * (np.exp(omg_p * tau) - np.exp(omg_m * tau))\n",
    "    denominator =   np.sqrt(z) * (omg_p - omg_m)\n",
    "\n",
    "    result  =   7.5 * numerator / denominator\n",
    "    return result\n",
    "\n",
    "\n",
    "# 定义被积函数中 tau 的积分函数\n",
    "def gA(tau):\n",
    "    return quad(lambda r: gA_to_quad(tau, r), 0, 1)[0]\n",
    "\n",
    "\n",
    "# formula (16), defined to calc formula (14)\n",
    "def gB(tau):\n",
    "    result, error   =   quad(gA, 0, tau)\n",
    "    result  =   beta * result\n",
    "    return result\n",
    "\n"
   ]
  },
  {
   "cell_type": "code",
   "execution_count": 81,
   "metadata": {},
   "outputs": [],
   "source": [
    "# formula (14)-(16), an integral equation for \n",
    "# the spin evolution of the crust\n",
    "\n",
    "# to solve it numerically, guessing an initial \n",
    "# trial function for f(tau) (e.g. exponential),\n",
    "# substituting it into the right-hand side of (14),\n",
    "# updating f(tau) via underrelaxation (Press et al. 2002),\n",
    "# and iterating.\n",
    "\n",
    "def f_term1_to_quad(tau, tau_prime):\n",
    "    gA_prime  =   derivative(gA, tau - tau_prime, dx=1e-6)\n",
    "    gB_prime  =   derivative(gB, tau - tau_prime, dx=1e-6)\n",
    "    result    =   - rho_n * K * (gA_prime + gB_prime) * np.exp(tau_prime)\n",
    "    return result\n",
    "\n",
    "\n",
    "def f_term1(tau):\n",
    "    result, error = quad(lambda tau_prime: f_term1_to_quad(tau, tau_prime), 0, tau)\n",
    "    return result\n",
    "\n",
    "\n",
    "def f_model(tau):\n",
    "    term2   =   rho_n * K * (gA(tau) * Omega_n0 + gB(tau) * Omega_0) + 1\n",
    "    result  =   f_term1(tau) + term2\n",
    "    return result\n",
    "\n",
    "# print(f_model(0.01))"
   ]
  },
  {
   "cell_type": "markdown",
   "metadata": {},
   "source": [
    "## OBS data fit parameter -- plot"
   ]
  },
  {
   "cell_type": "code",
   "execution_count": 82,
   "metadata": {},
   "outputs": [],
   "source": [
    "# pre-glitch, unit: Hz\n",
    "nu_g0       =   11.2016866562\n",
    "Omega       =   2.0 * np.pi * nu_g0\n",
    "\n",
    "# unit: muHz\n",
    "dlt_nu      =   17.9\n",
    "dlt_nu_p    =   15.1 \n",
    "dlt_nu_1    =   2.76\n",
    "dlt_nu_2    =   0.066\n",
    "# dlt_nu_3    =   12.8\n",
    "# dlt_nu_4    =   12.8\n",
    "\n",
    "# scaled to dlt_nu\n",
    "dlt_nu_list = np.array([dlt_nu_1, dlt_nu_2]) / dlt_nu\n",
    "\n",
    "# unit: d\n",
    "t_1         =   332.0\n",
    "t_2         =   6.5\n",
    "# t_3         =   233\n",
    "# t_4         =   233\n",
    "t_list      = np.array([t_1, t_2])\n",
    "\n"
   ]
  },
  {
   "cell_type": "code",
   "execution_count": 83,
   "metadata": {},
   "outputs": [],
   "source": [
    "# formula (19)\n",
    "def f_obs(tau):\n",
    "\n",
    "    # summation of terms of power law \n",
    "    sum = 0.0\n",
    "    for i in range(len(dlt_nu_list)):\n",
    "        powerlaw = np.exp(- tau / (np.sqrt(E) * 2.0 * np.pi * nu_g0 * t_list[i]))\n",
    "        sum     += dlt_nu_list[i] * powerlaw\n",
    "\n",
    "    # f_obs\n",
    "    obs = dlt_nu_p / dlt_nu + sum\n",
    "\n",
    "    return obs"
   ]
  },
  {
   "cell_type": "code",
   "execution_count": 84,
   "metadata": {},
   "outputs": [],
   "source": [
    "numdays = 120\n",
    "\n",
    "# variable, unit: d\n",
    "t   =   np.arange(0, numdays, 1)\n",
    "\n",
    "# Ekman time, scale the time coord.\n",
    "tau = np.sqrt(E) * Omega * t\n",
    "\n",
    "#\n",
    "Y_obs   =   f_obs(tau)\n",
    "\n",
    "\n"
   ]
  },
  {
   "cell_type": "code",
   "execution_count": 85,
   "metadata": {},
   "outputs": [],
   "source": [
    "y_gA  = []\n",
    "for i in range(numdays):\n",
    "    y_gA.append(gA(tau[i]))"
   ]
  },
  {
   "cell_type": "code",
   "execution_count": 86,
   "metadata": {},
   "outputs": [],
   "source": [
    "# test gA(tau)\n",
    "\n",
    "def gA1(tau):\n",
    "    return 20./7.*tau\n",
    "\n",
    "def gA2(tau):\n",
    "    result = - (10./7. * beta - 15./8.) * np.square(tau)\n",
    "    return result\n",
    "\n",
    "\n",
    "\n",
    "y_gA1 = gA1(tau)\n",
    "y_gA2 = gA2(tau)\n",
    "y_gA  = np.array(y_gA)"
   ]
  },
  {
   "cell_type": "code",
   "execution_count": 87,
   "metadata": {},
   "outputs": [
    {
     "data": {
      "text/plain": [
       "[<matplotlib.lines.Line2D at 0x1cdf54bf070>]"
      ]
     },
     "execution_count": 87,
     "metadata": {},
     "output_type": "execute_result"
    },
    {
     "data": {
      "image/png": "[encoded data removed]",
      "text/plain": [
       "<Figure size 432x288 with 1 Axes>"
      ]
     },
     "metadata": {
      "needs_background": "light"
     },
     "output_type": "display_data"
    }
   ],
   "source": [
    "# plt.plot(t, y_gA1    - y_gA, color='red')\n",
    "plt.plot(t, y_gA, color='blue')"
   ]
  },
  {
   "cell_type": "markdown",
   "metadata": {},
   "source": [
    "### glitch-model-analytical"
   ]
  },
  {
   "cell_type": "code",
   "execution_count": 88,
   "metadata": {},
   "outputs": [
    {
     "name": "stdout",
     "output_type": "stream",
     "text": [
      "{'K': 1.0, 'B': 2.28e-08, 'E': 9.28e-19, 'rho_n': 0.1, 'Omega_n0': 0.38, 'Omega_0': 0.68, 'beta': 23.667961758315894}\n",
      "[2313502.4096819083, 0.9941490968205111, 0.8435754189944135, 43571.65442373115]\n"
     ]
    }
   ],
   "source": [
    "# Fig. 2. (a)\n",
    "# dimensionless parameters\n",
    "# K       =   1.0\n",
    "# B       =   2.28e-8\n",
    "E       =   9.28e-19\n",
    "\n",
    "# viscous, scaled to total density: rho\n",
    "a_rho_n_K   =   1. / (np.sqrt(E) * 2 * np.pi * nu_g0) * (1/t_1 + 1/t_2)\n",
    "\n",
    "# viscous, total mass flux, scaled to dlt_Omega\n",
    "# Omega_n0=   0.38\n",
    "c_Omega_0 =   dlt_nu_p / dlt_nu\n",
    "\n",
    "\n",
    "temp1    =   1. / (np.sqrt(E) * 2 * np.pi * nu_g0) / t_1\n",
    "temp2    =      1. / (np.sqrt(E) * 2 * np.pi * nu_g0) / t_2\n",
    "\n",
    "d_beta    =   1.0/4 * (a_rho_n_K - np.power(temp1 - temp2, 2) / a_rho_n_K)\n",
    "\n",
    "b_Omega_n0       =   1.0/2 * (1 + c_Omega_0 + np.sqrt(1 - 4 * (d_beta/a_rho_n_K)) * abs(dlt_nu_1 - dlt_nu_2) / dlt_nu)\n",
    "\n",
    "coeffs  =   [a_rho_n_K, b_Omega_n0, c_Omega_0, d_beta]\n",
    "# coeffs  =   [20./7 * rho_n * K, Omega_n0, Omega_0, beta]\n",
    "\n",
    "print(effs)\n",
    "print(coeffs)"
   ]
  },
  {
   "cell_type": "code",
   "execution_count": 89,
   "metadata": {},
   "outputs": [],
   "source": [
    "def f_ana(tau):\n",
    "    result = coeffs[2]\n",
    "    print(coeffs[0] - 4 * coeffs[3])\n",
    "    effs1  = np.sqrt(coeffs[0]) * (2 * coeffs[1] - coeffs[2] - 1)\n",
    "    effs2  = np.sqrt(coeffs[0] - 4 * coeffs[3]) * (coeffs[2] - 1)\n",
    "    effs3  = np.sqrt(coeffs[0] * (coeffs[0] - 4 * coeffs[3]))\n",
    "\n",
    "    term1  = (effs1 + effs2) * np.exp(- 0.5 * tau * (effs3 + coeffs[0]))\n",
    "    term2  = (-effs1 + effs2) * np.exp(- 0.5 * tau * (- effs3 + coeffs[0]))\n",
    "\n",
    "    result = result - (term1 + term2) / 2.0 / np.sqrt(coeffs[0] - 4 * coeffs[3])\n",
    "                                      \n",
    "    return result\n",
    "\n",
    "# Y_ana = f_ana(tau) "
   ]
  },
  {
   "cell_type": "code",
   "execution_count": 90,
   "metadata": {},
   "outputs": [],
   "source": [
    "# formula (14)-(16), an integral equation for \n",
    "# the spin evolution of the crust\n",
    "\n",
    "# to solve it numerically, guessing an initial \n",
    "# trial function for f(tau) (e.g. exponential),\n",
    "# substituting it into the right-hand side of (14),\n",
    "# updating f(tau) via underrelaxation (Press et al. 2002),\n",
    "# and iterating.\n",
    "\n",
    "def f_term1_to_quad(tau, tau_prime):\n",
    "    gA_prime  =   derivative(gA, tau - tau_prime, dx=1e-6)\n",
    "    gB_prime  =   derivative(gB, tau - tau_prime, dx=1e-6)\n",
    "    result    =   - rho_n * K * (gA_prime + gB_prime) * np.exp(tau_prime)\n",
    "    return result\n",
    "\n",
    "\n",
    "def f_term1(tau):\n",
    "    result, error = quad(lambda tau_prime: f_term1_to_quad(tau, tau_prime), 0, tau)\n",
    "    return result\n",
    "\n",
    "\n",
    "def f_model(tau):\n",
    "    term2   =   rho_n * K * (gA(tau) * Omega_n0 + gB(tau) * Omega_0) + 1\n",
    "    result  =   f_term1(tau) + term2\n",
    "    return result\n",
    "\n"
   ]
  },
  {
   "cell_type": "code",
   "execution_count": 91,
   "metadata": {},
   "outputs": [
    {
     "name": "stdout",
     "output_type": "stream",
     "text": [
      "2139215.7919869837\n",
      "2139215.7919869837\n",
      "2139215.7919869837\n",
      "2139215.7919869837\n",
      "2139215.7919869837\n",
      "2139215.7919869837\n",
      "2139215.7919869837\n",
      "2139215.7919869837\n",
      "2139215.7919869837\n",
      "2139215.7919869837\n",
      "2139215.7919869837\n",
      "2139215.7919869837\n",
      "2139215.7919869837\n",
      "2139215.7919869837\n",
      "2139215.7919869837\n",
      "2139215.7919869837\n",
      "2139215.7919869837\n",
      "2139215.7919869837\n",
      "2139215.7919869837\n",
      "2139215.7919869837\n",
      "2139215.7919869837\n",
      "2139215.7919869837\n",
      "2139215.7919869837\n",
      "2139215.7919869837\n",
      "2139215.7919869837\n",
      "2139215.7919869837\n",
      "2139215.7919869837\n",
      "2139215.7919869837\n",
      "2139215.7919869837\n",
      "2139215.7919869837\n",
      "2139215.7919869837\n",
      "2139215.7919869837\n",
      "2139215.7919869837\n",
      "2139215.7919869837\n",
      "2139215.7919869837\n",
      "2139215.7919869837\n",
      "2139215.7919869837\n",
      "2139215.7919869837\n",
      "2139215.7919869837\n",
      "2139215.7919869837\n",
      "2139215.7919869837\n",
      "2139215.7919869837\n",
      "2139215.7919869837\n",
      "2139215.7919869837\n",
      "2139215.7919869837\n",
      "2139215.7919869837\n",
      "2139215.7919869837\n",
      "2139215.7919869837\n",
      "2139215.7919869837\n",
      "2139215.7919869837\n",
      "2139215.7919869837\n",
      "2139215.7919869837\n",
      "2139215.7919869837\n",
      "2139215.7919869837\n",
      "2139215.7919869837\n",
      "2139215.7919869837\n",
      "2139215.7919869837\n",
      "2139215.7919869837\n",
      "2139215.7919869837\n",
      "2139215.7919869837\n",
      "2139215.7919869837\n",
      "2139215.7919869837\n",
      "2139215.7919869837\n",
      "2139215.7919869837\n",
      "2139215.7919869837\n",
      "2139215.7919869837\n",
      "2139215.7919869837\n",
      "2139215.7919869837\n",
      "2139215.7919869837\n",
      "2139215.7919869837\n",
      "2139215.7919869837\n",
      "2139215.7919869837\n",
      "2139215.7919869837\n",
      "2139215.7919869837\n",
      "2139215.7919869837\n",
      "2139215.7919869837\n",
      "2139215.7919869837\n",
      "2139215.7919869837\n",
      "2139215.7919869837\n",
      "2139215.7919869837\n",
      "2139215.7919869837\n",
      "2139215.7919869837\n",
      "2139215.7919869837\n",
      "2139215.7919869837\n",
      "2139215.7919869837\n",
      "2139215.7919869837\n",
      "2139215.7919869837\n",
      "2139215.7919869837\n",
      "2139215.7919869837\n",
      "2139215.7919869837\n",
      "2139215.7919869837\n",
      "2139215.7919869837\n",
      "2139215.7919869837\n",
      "2139215.7919869837\n",
      "2139215.7919869837\n",
      "2139215.7919869837\n",
      "2139215.7919869837\n",
      "2139215.7919869837\n",
      "2139215.7919869837\n",
      "2139215.7919869837\n",
      "2139215.7919869837\n",
      "2139215.7919869837\n",
      "2139215.7919869837\n",
      "2139215.7919869837\n",
      "2139215.7919869837\n",
      "2139215.7919869837\n",
      "2139215.7919869837\n",
      "2139215.7919869837\n",
      "2139215.7919869837\n",
      "2139215.7919869837\n",
      "2139215.7919869837\n",
      "2139215.7919869837\n",
      "2139215.7919869837\n",
      "2139215.7919869837\n",
      "2139215.7919869837\n",
      "2139215.7919869837\n",
      "2139215.7919869837\n",
      "2139215.7919869837\n",
      "2139215.7919869837\n",
      "2139215.7919869837\n"
     ]
    }
   ],
   "source": [
    "Y_ana = []\n",
    "for i in range(numdays):\n",
    "    Y_ana.append(f_ana(numdays))"
   ]
  },
  {
   "cell_type": "markdown",
   "metadata": {},
   "source": [
    "### Plot block"
   ]
  },
  {
   "cell_type": "code",
   "execution_count": 92,
   "metadata": {},
   "outputs": [
    {
     "data": {
      "image/png": "[encoded data removed]",
      "text/plain": [
       "<Figure size 432x288 with 1 Axes>"
      ]
     },
     "metadata": {
      "needs_background": "light"
     },
     "output_type": "display_data"
    }
   ],
   "source": [
    "# plot\n",
    "# plt.plot(t, Y_obs, color='red')\n",
    "plt.plot(t, Y_ana, color='blue')\n",
    "\n",
    "#\n",
    "plt.xlim(0,numdays)\n",
    "plt.ylim(0.82, 1.)\n",
    "plt.xlabel('t (days)')\n",
    "plt.ylabel('f (t)')\n",
    "\n",
    "# set the minor ticks\n",
    "plt.minorticks_on()\n",
    "\n",
    "# set tick params\n",
    "plt.tick_params(axis=\"both\", which=\"both\", direction=\"in\", \n",
    "                top=True, bottom=True, left=True, right=True)\n",
    "\n"
   ]
  },
  {
   "cell_type": "code",
   "execution_count": 2,
   "metadata": {},
   "outputs": [
    {
     "name": "stdout",
     "output_type": "stream",
     "text": [
      "函数的极点: [-1, -I, I]\n"
     ]
    }
   ],
   "source": [
    "from sympy import symbols, solve, exp\n",
    "\n",
    "# 定义符号变量和函数\n",
    "s = symbols('s')\n",
    "f = exp(s) / (s**3 + s**2 + s**1 + 1)\n",
    "\n",
    "# 分解函数，得到分子和分母\n",
    "numerator, denominator = f.as_numer_denom()\n",
    "\n",
    "# 解分母为零的方程，得到函数的极点\n",
    "denominator_zero_points = solve(denominator, s)\n",
    "\n",
    "# 打印结果\n",
    "print(\"函数的极点:\", denominator_zero_points)\n"
   ]
  }
 ],
 "metadata": {
  "kernelspec": {
   "display_name": "Python 3",
   "language": "python",
   "name": "python3"
  },
  "language_info": {
   "codemirror_mode": {
    "name": "ipython",
    "version": 3
   },
   "file_extension": ".py",
   "mimetype": "text/x-python",
   "name": "python",
   "nbconvert_exporter": "python",
   "pygments_lexer": "ipython3",
   "version": "3.9.5"
  }
 },
 "nbformat": 4,
 "nbformat_minor": 2
}
