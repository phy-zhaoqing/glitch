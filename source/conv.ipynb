{
 "cells": [
  {
   "cell_type": "code",
   "execution_count": 1,
   "metadata": {},
   "outputs": [
    {
     "ename": "ModuleNotFoundError",
     "evalue": "No module named 'params'",
     "output_type": "error",
     "traceback": [
      "\u001b[1;31m---------------------------------------------------------------------------\u001b[0m",
      "\u001b[1;31mModuleNotFoundError\u001b[0m                       Traceback (most recent call last)",
      "Input \u001b[1;32mIn [1]\u001b[0m, in \u001b[0;36m<cell line: 5>\u001b[1;34m()\u001b[0m\n\u001b[0;32m      1\u001b[0m \u001b[38;5;124;03m'''\u001b[39;00m\n\u001b[0;32m      2\u001b[0m \u001b[38;5;124;03mparams.py\u001b[39;00m\n\u001b[0;32m      3\u001b[0m \u001b[38;5;124;03m'''\u001b[39;00m\n\u001b[1;32m----> 5\u001b[0m \u001b[38;5;28;01mfrom\u001b[39;00m \u001b[38;5;21;01mparams\u001b[39;00m \u001b[38;5;28;01mimport\u001b[39;00m B, E, rhon, K, Omega0, Omegan0, beta, nug0, Omega, N\n",
      "\u001b[1;31mModuleNotFoundError\u001b[0m: No module named 'params'"
     ]
    }
   ],
   "source": [
    "'''\n",
    "params.py\n",
    "'''\n",
    "from . import params\n",
    "from params import B, E, rhon, K, Omega0, Omegan0, beta, nug0, Omega, N\n"
   ]
  },
  {
   "cell_type": "code",
   "execution_count": null,
   "metadata": {},
   "outputs": [
    {
     "data": {
      "image/png": "[encoded data removed]",
      "text/plain": [
       "<Figure size 432x288 with 3 Axes>"
      ]
     },
     "metadata": {
      "needs_background": "light"
     },
     "output_type": "display_data"
    }
   ],
   "source": [
    "'''\n",
    "when calc. f, using the formula of only h(tau) as input\n",
    "'''\n",
    "import numpy as np\n",
    "import matplotlib.pyplot as plt\n",
    "\n",
    "\n",
    "def omega(r):\n",
    "  b = beta + np.power(1 - np.power(r, 2.0), -3/4)\n",
    "  c = beta * rhon * np.power(1 - np.power(r, 2.0), -3/4)\n",
    "  omega_p = 0.5 * (-b + np.sqrt(np.power(b, 2.0) - 4 * c))\n",
    "  omega_m = 0.5 * (-b - np.sqrt(np.power(b, 2.0) - 4 * c))\n",
    "  return omega_p, omega_m\n",
    "\n",
    "\n",
    "def g(tau):\n",
    "  r = np.arange(0,1,1e-3)\n",
    "  omega_p, omega_m = omega(r)\n",
    "  y = r*3 * np.power(1 - np.power(r, 2.0), -1/4) * (np.exp(omega_p * tau) - np.exp(omega_m * tau))/(omega_p - omega_m)\n",
    "  gtau = 7.5 * np.trapz(y, r)\n",
    "  return gtau\n",
    "\n",
    "def iconv(signal, kernel):\n",
    "  signal_fft = np.fft.fft(signal)\n",
    "  kernel_fft = np.fft.fft(kernel)\n",
    "\n",
    "  result_fft = np.divide(1.0, kernel_fft, out=np.zeros_like(kernel_fft), where=kernel_fft!=0)\n",
    "\n",
    "  result_fft = result_fft * signal_fft\n",
    "\n",
    "  result = np.fft.ifft(result_fft).real\n",
    "  return result\n",
    "\n",
    "\n",
    "t = np.arange(0, N, 1e-1)\n",
    "tau = np.sqrt(E) * Omega * t\n",
    "\n",
    "y = []\n",
    "# yprime = 20/7 * tau\n",
    "for _ in tau:\n",
    "  gtau = g(_)\n",
    "  y.append(gtau)\n",
    "\n",
    "exptau = np.exp(-beta * tau)\n",
    "yp = np.array(y + 1./(rhon * K) * exptau )\n",
    "h = iconv(exptau, yp)\n",
    "I = np.ones(len(tau))\n",
    "\n",
    "\n",
    "f = Omega0\n",
    "f = f + (Omegan0 - Omega0) * np.exp(-beta * tau)\n",
    "\n",
    "f = f + (1 - Omega0) /(rhon * K) * np.convolve(I, h, mode='same')\n",
    "f = f - (Omegan0 - Omega0) / (rhon * K) * np.convolve(np.exp(-beta * tau), h, mode='same')\n",
    "\n",
    "plt.subplot(2,2,1)\n",
    "plt.plot(t,y)\n",
    "plt.title('g(tau)')\n",
    "\n",
    "plt.subplot(2,2,2)\n",
    "plt.plot(t,h)\n",
    "plt.title('h(tau)')\n",
    "\n",
    "plt.subplot(2,2,3)\n",
    "plt.plot(t, f)\n",
    "plt.title('f(tau)')\n",
    "\n",
    "plt.subplots_adjust(left=0.1, right=0.9, top=0.9, bottom=0.1, wspace=0.4, hspace=0.4)"
   ]
  },
  {
   "cell_type": "code",
   "execution_count": null,
   "metadata": {},
   "outputs": [
    {
     "data": {
      "image/png": "[encoded data removed]",
      "text/plain": [
       "<Figure size 432x288 with 3 Axes>"
      ]
     },
     "metadata": {
      "needs_background": "light"
     },
     "output_type": "display_data"
    }
   ],
   "source": [
    "'''\n",
    "When calc. f, using the formula of g(tau), h(tau) as input\n",
    "'''\n",
    "import numpy as np\n",
    "import matplotlib.pyplot as plt\n",
    "\n",
    "\n",
    "def omega(r):\n",
    "  b = beta + np.power(1 - np.power(r, 2.0), -3/4)\n",
    "  c = beta * rhon * np.power(1 - np.power(r, 2.0), -3/4)\n",
    "  omega_p = 0.5 * (-b + np.sqrt(np.power(b, 2.0) - 4 * c))\n",
    "  omega_m = 0.5 * (-b - np.sqrt(np.power(b, 2.0) - 4 * c))\n",
    "  return omega_p, omega_m\n",
    "\n",
    "\n",
    "def g(tau):\n",
    "  r = np.arange(0,1,1e-3)\n",
    "  omega_p, omega_m = omega(r)\n",
    "  y = r*3 * np.power(1 - np.power(r, 2.0), -1/4) * (np.exp(omega_p * tau) - np.exp(omega_m * tau))/(omega_p - omega_m)\n",
    "  gtau = 7.5 * np.trapz(y, r)\n",
    "  return gtau\n",
    "\n",
    "def iconv(signal, kernel):\n",
    "  signal_fft = np.fft.fft(signal)\n",
    "  kernel_fft = np.fft.fft(kernel)\n",
    "\n",
    "  result_fft = np.divide(1.0, kernel_fft, out=np.zeros_like(kernel_fft), where=kernel_fft!=0)\n",
    "\n",
    "  result_fft = result_fft * signal_fft\n",
    "\n",
    "  result = np.fft.ifft(result_fft).real\n",
    "  return result\n",
    "\n",
    "\n",
    "t = np.arange(0, N, 1e0)\n",
    "tau = np.sqrt(E) * Omega * t\n",
    "\n",
    "y = []\n",
    "# yprime = 20/7 * tau\n",
    "for _ in tau:\n",
    "  gtau = g(_)\n",
    "  y.append(gtau)\n",
    "\n",
    "exptau = np.exp(-beta * tau)\n",
    "yp = np.array(y + 1./(rhon * K) * exptau )\n",
    "h = iconv(exptau, yp)\n",
    "I = np.ones(len(tau))\n",
    "\n",
    "\n",
    "f = Omega0\n",
    "f = f + (1 - Omega0) /(rhon * K) * np.convolve(I, h, mode='same')\n",
    "f = f + (Omegan0 - Omega0) * np.convolve(np.array(y), h, mode='same')\n",
    "\n",
    "plt.subplot(2,2,1)\n",
    "plt.plot(t,y)\n",
    "plt.title('g(tau)')\n",
    "\n",
    "plt.subplot(2,2,2)\n",
    "plt.plot(t,h)\n",
    "plt.title('h(tau)')\n",
    "\n",
    "plt.subplot(2,2,3)\n",
    "plt.plot(t, f)\n",
    "plt.title('f(tau)')\n",
    "\n",
    "plt.subplots_adjust(left=0.1, right=0.9, top=0.9, bottom=0.1, wspace=0.4, hspace=0.4)"
   ]
  },
  {
   "cell_type": "code",
   "execution_count": null,
   "metadata": {},
   "outputs": [
    {
     "data": {
      "text/plain": [
       "[<matplotlib.lines.Line2D at 0x1f5c4efb9d0>]"
      ]
     },
     "execution_count": 65,
     "metadata": {},
     "output_type": "execute_result"
    },
    {
     "data": {
      "image/png": "[encoded data removed]",
      "text/plain": [
       "<Figure size 432x288 with 1 Axes>"
      ]
     },
     "metadata": {
      "needs_background": "light"
     },
     "output_type": "display_data"
    }
   ],
   "source": [
    "import numpy as np\n",
    "import matplotlib.pyplot as plt\n",
    "\n",
    "finf = (1. + K * Omega0) / (1 + K)\n",
    "C = (Omegan0 - finf)\n",
    "\n",
    "t = np.arange(0, N, 1)\n",
    "tau = np.sqrt(E) * Omega * t\n",
    "\n",
    "ftau = finf\n",
    "ftau = ftau + C * np.exp(-beta*(1. + 1./K) * tau)\n",
    "ftau = ftau + (1. - C - finf) * np.exp(-beta * tau)\n",
    "\n",
    "plt.plot(t, ftau)"
   ]
  },
  {
   "cell_type": "code",
   "execution_count": null,
   "metadata": {},
   "outputs": [
    {
     "data": {
      "image/png": "[encoded data removed]",
      "text/plain": [
       "<Figure size 432x288 with 1 Axes>"
      ]
     },
     "metadata": {
      "needs_background": "light"
     },
     "output_type": "display_data"
    }
   ],
   "source": [
    "import numpy as np\n",
    "import matplotlib.pyplot as plt\n",
    "\n",
    "\n",
    "finf = (1. + K * Omega0) / (1 + K)\n",
    "C = (Omega0 - Omegan0) / (beta/(20./7 * rhon * K) - 1.)\n",
    "\n",
    "t = np.arange(0, N, 1) \n",
    "tau = np.sqrt(E) * Omega * t\n",
    "\n",
    "ftau = finf\n",
    "ftau += C * np.exp(- beta * tau)\n",
    "ftau += (1. - C - finf) * np.exp(- 20. / 7 * rhon * (1 + K) * tau)\n",
    "\n",
    "plt.plot(t, ftau, linestyle='dotted', color='grey')\n",
    "\n",
    "#\n",
    "plt.xlim(0,N)\n",
    "# plt.ylim(0.842, 1.0)\n",
    "plt.xlabel('t (days)')\n",
    "plt.ylabel('f (t)')\n",
    "\n",
    "# set the minor ticks\n",
    "plt.minorticks_on()\n",
    "\n",
    "# set tick params\n",
    "plt.tick_params(axis=\"both\", which=\"both\", direction=\"in\", \n",
    "                top=True, bottom=True, left=True, right=True)\n",
    "\n",
    "# plt.savefig(\"vela_1985.pdf\")\n",
    "plt.show()"
   ]
  },
  {
   "cell_type": "code",
   "execution_count": null,
   "metadata": {},
   "outputs": [],
   "source": []
  }
 ],
 "metadata": {
  "kernelspec": {
   "display_name": "Python 3",
   "language": "python",
   "name": "python3"
  },
  "language_info": {
   "codemirror_mode": {
    "name": "ipython",
    "version": 3
   },
   "file_extension": ".py",
   "mimetype": "text/x-python",
   "name": "python",
   "nbconvert_exporter": "python",
   "pygments_lexer": "ipython3",
   "version": "3.9.5"
  }
 },
 "nbformat": 4,
 "nbformat_minor": 2
}
